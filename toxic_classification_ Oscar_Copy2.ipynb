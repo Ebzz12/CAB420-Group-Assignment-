{
 "cells": [
  {
   "cell_type": "code",
   "execution_count": 3,
   "id": "5009ccf6-6c30-423f-9b66-834d54bca254",
   "metadata": {},
   "outputs": [],
   "source": [
    "import matplotlib.pyplot as plt\n",
    "import numpy as np\n",
    "import pandas as pd\n",
    "import os\n",
    "from tensorflow import keras\n",
    "from tensorflow.keras import layers\n",
    "from tensorboard import notebook\n",
    "from tensorflow.keras.utils import to_categorical\n",
    "import matplotlib.pyplot as plt \n",
    "%matplotlib inline"
   ]
  },
  {
   "cell_type": "code",
   "execution_count": 4,
   "id": "3d52dad3-b15c-4d5a-aa55-70ae2301963b",
   "metadata": {},
   "outputs": [],
   "source": [
    "from gensim.models import Word2Vec\n",
    "import re\n",
    "import string\n",
    "from sklearn.model_selection import train_test_split\n",
    "from sklearn.neighbors import KNeighborsClassifier\n",
    "from sklearn.svm import SVC, NuSVC\n",
    "from sklearn.multiclass import OneVsRestClassifier, OneVsOneClassifier\n",
    "from sklearn.linear_model import LogisticRegression\n",
    "from scipy.stats import norm\n",
    "from tensorflow.keras.preprocessing.sequence import pad_sequences\n",
    "from tensorflow.keras.preprocessing.text import text_to_word_sequence, Tokenizer\n",
    "from tensorflow.keras.models import Sequential\n",
    "from tensorflow.keras.layers import Dense, Input, Dropout, Embedding, LSTM, Bidirectional, GRU, GlobalMaxPool1D\n",
    "from sklearn.metrics import confusion_matrix, ConfusionMatrixDisplay\n",
    "from tensorflow.keras.models import Model\n",
    "from tensorflow.keras import initializers, regularizers, constraints, optimizers, layers\n",
    "import pydot\n",
    "import IPython\n",
    "from IPython.display import SVG\n",
    "from tensorflow.keras.utils import model_to_dot, plot_model\n"
   ]
  },
  {
   "cell_type": "code",
   "execution_count": 5,
   "id": "2d9fc540-caa0-467e-bb2c-4ee7ae6cb038",
   "metadata": {},
   "outputs": [],
   "source": [
    "import seaborn as sns"
   ]
  },
  {
   "cell_type": "code",
   "execution_count": 6,
   "id": "a31f29b5-4b26-4d44-94b2-5ac7603542ab",
   "metadata": {},
   "outputs": [],
   "source": [
    "from sklearn.metrics import precision_score, recall_score, f1_score, classification_report"
   ]
  },
  {
   "cell_type": "code",
   "execution_count": 7,
   "id": "0910144e-1881-48a5-9737-3ac0ae7493ac",
   "metadata": {},
   "outputs": [],
   "source": [
    "train = pd.read_csv('./train.csv')\n",
    "#test = pd.read_csv('./test.csv')\n"
   ]
  },
  {
   "cell_type": "code",
   "execution_count": 8,
   "id": "78d32459-ea1c-4bdd-9546-568940e690a6",
   "metadata": {},
   "outputs": [],
   "source": [
    "list_classes = [\"toxic\", \"severe_toxic\", \"obscene\", \"threat\", \"insult\", \"identity_hate\"]\n",
    "train_y = train[list_classes].values\n",
    "train_x= train[\"comment_text\"]\n"
   ]
  },
  {
   "cell_type": "code",
   "execution_count": 9,
   "id": "13b7036b-6e70-4dc3-8658-25edce88789f",
   "metadata": {},
   "outputs": [],
   "source": [
    "np.random.seed(42)\n",
    "\n",
    "num_samples = 80000\n",
    "train_samples = 48000\n",
    "val_samples = int(train_samples + ((num_samples-train_samples)/2))\n",
    "samples = np.random.choice(len(train_x), num_samples)\n",
    "train_X = train_x[samples[0:train_samples]]\n",
    "train_Y = train_y[samples[0:train_samples]]\n",
    "val_X = train_x[samples[train_samples:val_samples]]\n",
    "val_Y = train_y[samples[train_samples: val_samples]]\n",
    "test_X = train_x[samples[val_samples:num_samples]]\n",
    "test_Y = train_y[samples[val_samples:num_samples]]"
   ]
  },
  {
   "cell_type": "code",
   "execution_count": 10,
   "id": "e0a7dbcf-946f-43b5-ac49-c008a42f3b9a",
   "metadata": {},
   "outputs": [
    {
     "name": "stdout",
     "output_type": "stream",
     "text": [
      "121958    You are WRONG. \\n\\nJustin Thompson is mentione...\n",
      "146867    \"\\n\\n British Bands?  \\n\\nI think you've mista...\n",
      "131932    I won't stop that. Sometimes Germanic equals G...\n",
      "103694    Back it up. Post the line here with the refere...\n",
      "119879    REDIRECT Talk:John Loveday (experimental physi...\n",
      "Name: comment_text, dtype: object\n",
      "41070     G'day Mackequine, and welcome to Wikipedia!\\n\\...\n",
      "11974     Add Media Matters back\\n add Opposition to the...\n",
      "114031    \"==Really, guys?==\\nIf you hate President Bush...\n",
      "18608     Effects under £2000 - dated 24th August, 1860....\n",
      "150547    \"\\nJust a heads up those people asking you to ...\n",
      "Name: comment_text, dtype: object\n"
     ]
    }
   ],
   "source": [
    "print(train_X.head())\n",
    "print(test_X.head())"
   ]
  },
  {
   "cell_type": "code",
   "execution_count": 11,
   "id": "5366ec46-97ae-4bd3-af28-0c1a9b00b6cb",
   "metadata": {},
   "outputs": [
    {
     "name": "stdout",
     "output_type": "stream",
     "text": [
      "43107\n",
      "       toxic  severe_toxic  obscene  threat  insult  identity_hate  clean\n",
      "0          0             0        0       0       0              0   True\n",
      "1          0             0        0       0       0              0   True\n",
      "2          1             0        0       0       0              0  False\n",
      "3          0             0        0       0       0              0   True\n",
      "4          0             0        0       0       0              0   True\n",
      "...      ...           ...      ...     ...     ...            ...    ...\n",
      "47995      0             0        0       0       0              0   True\n",
      "47996      0             0        0       0       0              0   True\n",
      "47997      0             0        0       0       0              0   True\n",
      "47998      0             0        0       0       0              0   True\n",
      "47999      0             0        0       0       0              0   True\n",
      "\n",
      "[48000 rows x 7 columns]\n"
     ]
    }
   ],
   "source": [
    "train_y_df = pd.DataFrame(train_Y, columns=list_classes)\n",
    "rowsums=train_y_df.iloc[:,0:].sum(axis=1)\n",
    "train_y_df['clean']=(rowsums==0)\n",
    "print(train_y_df['clean'].sum())\n",
    "# Print the DataFrame\n",
    "print(train_y_df)\n"
   ]
  },
  {
   "cell_type": "code",
   "execution_count": 12,
   "id": "481e15e0-c102-417c-b313-7e4ce9f11423",
   "metadata": {},
   "outputs": [
    {
     "data": {
      "image/png": "[encoded data removed]",
      "text/plain": [
       "<Figure size 900x600 with 1 Axes>"
      ]
     },
     "metadata": {},
     "output_type": "display_data"
    }
   ],
   "source": [
    "\n",
    "colors_list = [\"brownish green\", \"pine green\", \"ugly purple\",\n",
    "               \"blood\", \"deep blue\", \"brown\", \"azure\"]\n",
    "\n",
    "palette = sns.xkcd_palette(colors_list)\n",
    "\n",
    "x = train_y_df.iloc[:, 0:].sum()\n",
    "\n",
    "plt.figure(figsize=(9, 6))\n",
    "ax = sns.barplot(x=x.index, y=x.values, palette=palette)\n",
    "plt.title(\"Class\")\n",
    "plt.ylabel('Occurrences', fontsize=12)\n",
    "plt.xlabel('Type')\n",
    "plt.xticks(rotation=45)\n",
    "rects = ax.patches\n",
    "labels = x.values\n",
    "for rect, label in zip(rects, labels):\n",
    "    height = rect.get_height()\n",
    "    ax.text(rect.get_x() + rect.get_width() / 2, height + 10, label,\n",
    "            ha='center', va='bottom')\n",
    "\n",
    "plt.show()\n"
   ]
  },
  {
   "cell_type": "code",
   "execution_count": 13,
   "id": "27ff8e9c-6628-4b7b-8881-645003b9e79b",
   "metadata": {},
   "outputs": [],
   "source": [
    "alphanumeric = lambda x: re.sub('\\w*\\d\\w*', ' ', x)\n",
    "punc_lower = lambda x: re.sub('[%s]' % re.escape(string.punctuation), ' ', x.lower())\n",
    "remove_n = lambda x: re.sub(\"\\n\", \" \", x)\n",
    "remove_non_ascii = lambda x: re.sub(r'[^\\x00-\\x7f]',r' ', x)\n",
    "train_X = train_X.map(alphanumeric).map(punc_lower).map(remove_n).map(remove_non_ascii)\n",
    "val_X = val_X.map(alphanumeric).map(punc_lower).map(remove_n).map(remove_non_ascii)\n",
    "test_X = test_X.map(alphanumeric).map(punc_lower).map(remove_n).map(remove_non_ascii)\n",
    "\n"
   ]
  },
  {
   "cell_type": "code",
   "execution_count": 14,
   "id": "a3c8d1bc-8425-4ab3-8907-e4bdc2177d4a",
   "metadata": {},
   "outputs": [
    {
     "name": "stdout",
     "output_type": "stream",
     "text": [
      "13234        ifd  image matt chats to jinty   jpg listed...\n",
      "63172     x     n    x      n        this formula does n...\n",
      "137429    please stop  if you continue to vandalize page...\n",
      "21595         i want to be a fuck you    that s a song  ...\n",
      "45599        i know we aren t supposed to use straw poll...\n",
      "                                ...                        \n",
      "36986     rfc   hi  i m informing editors who have recen...\n",
      "123799       likewise a belated   thank you   for the ad...\n",
      "95823     milton cooper was a criminal   why you defendi...\n",
      "36602     no clarity in varna status there is no informa...\n",
      "154815    jensen   is particularly notable article becau...\n",
      "Name: comment_text, Length: 16000, dtype: object\n"
     ]
    }
   ],
   "source": [
    "print(val_X)"
   ]
  },
  {
   "cell_type": "code",
   "execution_count": 15,
   "id": "3bf02fbb-6b6e-4969-8d0e-7376f3d4f8b6",
   "metadata": {},
   "outputs": [],
   "source": [
    "max_words = 48000\n",
    "tokenizer = Tokenizer(num_words=max_words)\n",
    "tokenizer.fit_on_texts(train_X)"
   ]
  },
  {
   "cell_type": "code",
   "execution_count": 16,
   "id": "01493dac-d224-490f-a636-8192392208db",
   "metadata": {},
   "outputs": [],
   "source": [
    "train_sequences = []\n",
    "for seq in tokenizer.texts_to_sequences_generator(train_X):\n",
    "    train_sequences.append(seq)\n",
    "\n",
    "val_sequences = []\n",
    "for seq in tokenizer.texts_to_sequences_generator(val_X):\n",
    "    val_sequences.append(seq)\n",
    "\n",
    "\n",
    "test_sequences = []\n",
    "\n",
    "for seq in tokenizer.texts_to_sequences_generator(test_X):\n",
    "    test_sequences.append(seq)\n",
    "    \n",
    "def find_max_list(list):\n",
    "    list_len = [len(i) for i in list]\n",
    "    return (max(list_len))\n",
    "\n",
    "max_length = max(find_max_list(train_sequences),find_max_list(val_sequences), find_max_list(test_sequences))\n",
    "\n",
    "train_padded_X = pad_sequences(train_sequences, maxlen=int(max_length/2))\n",
    "val_padded_X = pad_sequences(val_sequences, maxlen=int(max_length/2))\n",
    "test_padded_X = pad_sequences(test_sequences, maxlen=int(max_length/2))\n",
    "\n",
    "#print(val_sequences[0])\n"
   ]
  },
  {
   "cell_type": "code",
   "execution_count": 17,
   "id": "b97167bd-514a-490b-ac36-905da42c09c7",
   "metadata": {},
   "outputs": [
    {
     "name": "stdout",
     "output_type": "stream",
     "text": [
      "(16000, 700)\n"
     ]
    }
   ],
   "source": [
    "print(test_padded_X.shape)"
   ]
  },
  {
   "cell_type": "code",
   "execution_count": 18,
   "id": "d3358954-effe-432f-b4e9-0ff92b43f2ab",
   "metadata": {},
   "outputs": [],
   "source": [
    "from sklearn.ensemble import RandomForestClassifier\n",
    "from sklearn.metrics import accuracy_score\n",
    "from sklearn.preprocessing import MultiLabelBinarizer"
   ]
  },
  {
   "cell_type": "code",
   "execution_count": 19,
   "id": "4ada651c-9bd4-47af-94f4-56bf058cf346",
   "metadata": {},
   "outputs": [],
   "source": [
    "# mlb = MultiLabelBinarizer()\n",
    "# train_Y_slf = mlb.fit_transform(train_Y)\n",
    "# test_Y_slf = mlb.fit_transform(test_Y)"
   ]
  },
  {
   "cell_type": "code",
   "execution_count": 20,
   "id": "e182b858-3903-4338-b09d-109b7bced27d",
   "metadata": {},
   "outputs": [],
   "source": [
    "# def eval_model(model, X_train, Y_train, X_test, Y_test):\n",
    "#     fig = plt.figure(figsize=[25, 8])\n",
    "#     ax = fig.add_subplot(1, 2, 1)\n",
    "#     conf = ConfusionMatrixDisplay.from_estimator(model, X_train, Y_train, normalize=None, xticks_rotation='vertical', ax=ax)\n",
    "#     pred = model.predict(X_train)\n",
    "#     conf.ax_.set_title('Training Set Performance: ' + str(sum(pred == Y_train)/len(Y_train)));\n",
    "#     ax = fig.add_subplot(1, 2, 2)\n",
    "#     conf = ConfusionMatrixDisplay.from_estimator(model, X_test, Y_test, normalize=None, xticks_rotation='vertical', ax=ax)\n",
    "#     pred = model.predict(X_test)\n",
    "#     conf.ax_.set_title('Testing Set Performance: ' + str(sum(pred == Y_test)/len(Y_test)));"
   ]
  },
  {
   "cell_type": "code",
   "execution_count": 21,
   "id": "e22c1077-6deb-4b98-b700-418fe52c2d87",
   "metadata": {},
   "outputs": [],
   "source": [
    "def eval_model(model, X_train, Y_train, X_test, Y_test):\n",
    "    # Convert multilabel-indicator to single-label format\n",
    "    mlb = MultiLabelBinarizer()\n",
    "    Y_train_single = mlb.fit_transform(Y_train)\n",
    "    Y_test_single = mlb.transform(Y_test)\n",
    "    \n",
    "    # Training set evaluation\n",
    "    train_pred = model.predict(X_train)\n",
    "    train_accuracy = accuracy_score(Y_train_single, train_pred)\n",
    "    train_cm = confusion_matrix(Y_train_single.ravel(), train_pred.ravel())\n",
    "\n",
    "    print(\"Training Set Accuracy: {:.2f}%\".format(train_accuracy * 100))\n",
    "    print(\"Training Set Confusion Matrix:\")\n",
    "    print(train_cm)\n",
    "\n",
    "    # Testing set evaluation\n",
    "    test_pred = model.predict(X_test)\n",
    "    test_accuracy = accuracy_score(Y_test_single, test_pred)\n",
    "    test_cm = confusion_matrix(Y_test_single.ravel(), test_pred.ravel())\n",
    "\n",
    "    print(\"Testing Set Accuracy: {:.2f}%\".format(test_accuracy * 100))\n",
    "    print(\"Testing Set Confusion Matrix:\")\n",
    "    print(test_cm)"
   ]
  },
  {
   "cell_type": "code",
   "execution_count": null,
   "id": "67768e50-dcfb-4d88-8f01-ff80b96c63d3",
   "metadata": {},
   "outputs": [],
   "source": []
  },
  {
   "cell_type": "code",
   "execution_count": 22,
   "id": "8571744d-1a3b-4d15-a1a5-36632b5e7128",
   "metadata": {},
   "outputs": [
    {
     "data": {
      "text/html": [
       "<style>#sk-container-id-1 {color: black;background-color: white;}#sk-container-id-1 pre{padding: 0;}#sk-container-id-1 div.sk-toggleable {background-color: white;}#sk-container-id-1 label.sk-toggleable__label {cursor: pointer;display: block;width: 100%;margin-bottom: 0;padding: 0.3em;box-sizing: border-box;text-align: center;}#sk-container-id-1 label.sk-toggleable__label-arrow:before {content: \"▸\";float: left;margin-right: 0.25em;color: #696969;}#sk-container-id-1 label.sk-toggleable__label-arrow:hover:before {color: black;}#sk-container-id-1 div.sk-estimator:hover label.sk-toggleable__label-arrow:before {color: black;}#sk-container-id-1 div.sk-toggleable__content {max-height: 0;max-width: 0;overflow: hidden;text-align: left;background-color: #f0f8ff;}#sk-container-id-1 div.sk-toggleable__content pre {margin: 0.2em;color: black;border-radius: 0.25em;background-color: #f0f8ff;}#sk-container-id-1 input.sk-toggleable__control:checked~div.sk-toggleable__content {max-height: 200px;max-width: 100%;overflow: auto;}#sk-container-id-1 input.sk-toggleable__control:checked~label.sk-toggleable__label-arrow:before {content: \"▾\";}#sk-container-id-1 div.sk-estimator input.sk-toggleable__control:checked~label.sk-toggleable__label {background-color: #d4ebff;}#sk-container-id-1 div.sk-label input.sk-toggleable__control:checked~label.sk-toggleable__label {background-color: #d4ebff;}#sk-container-id-1 input.sk-hidden--visually {border: 0;clip: rect(1px 1px 1px 1px);clip: rect(1px, 1px, 1px, 1px);height: 1px;margin: -1px;overflow: hidden;padding: 0;position: absolute;width: 1px;}#sk-container-id-1 div.sk-estimator {font-family: monospace;background-color: #f0f8ff;border: 1px dotted black;border-radius: 0.25em;box-sizing: border-box;margin-bottom: 0.5em;}#sk-container-id-1 div.sk-estimator:hover {background-color: #d4ebff;}#sk-container-id-1 div.sk-parallel-item::after {content: \"\";width: 100%;border-bottom: 1px solid gray;flex-grow: 1;}#sk-container-id-1 div.sk-label:hover label.sk-toggleable__label {background-color: #d4ebff;}#sk-container-id-1 div.sk-serial::before {content: \"\";position: absolute;border-left: 1px solid gray;box-sizing: border-box;top: 0;bottom: 0;left: 50%;z-index: 0;}#sk-container-id-1 div.sk-serial {display: flex;flex-direction: column;align-items: center;background-color: white;padding-right: 0.2em;padding-left: 0.2em;position: relative;}#sk-container-id-1 div.sk-item {position: relative;z-index: 1;}#sk-container-id-1 div.sk-parallel {display: flex;align-items: stretch;justify-content: center;background-color: white;position: relative;}#sk-container-id-1 div.sk-item::before, #sk-container-id-1 div.sk-parallel-item::before {content: \"\";position: absolute;border-left: 1px solid gray;box-sizing: border-box;top: 0;bottom: 0;left: 50%;z-index: -1;}#sk-container-id-1 div.sk-parallel-item {display: flex;flex-direction: column;z-index: 1;position: relative;background-color: white;}#sk-container-id-1 div.sk-parallel-item:first-child::after {align-self: flex-end;width: 50%;}#sk-container-id-1 div.sk-parallel-item:last-child::after {align-self: flex-start;width: 50%;}#sk-container-id-1 div.sk-parallel-item:only-child::after {width: 0;}#sk-container-id-1 div.sk-dashed-wrapped {border: 1px dashed gray;margin: 0 0.4em 0.5em 0.4em;box-sizing: border-box;padding-bottom: 0.4em;background-color: white;}#sk-container-id-1 div.sk-label label {font-family: monospace;font-weight: bold;display: inline-block;line-height: 1.2em;}#sk-container-id-1 div.sk-label-container {text-align: center;}#sk-container-id-1 div.sk-container {/* jupyter's `normalize.less` sets `[hidden] { display: none; }` but bootstrap.min.css set `[hidden] { display: none !important; }` so we also need the `!important` here to be able to override the default hidden behavior on the sphinx rendered scikit-learn.org. See: https://github.com/scikit-learn/scikit-learn/issues/21755 */display: inline-block !important;position: relative;}#sk-container-id-1 div.sk-text-repr-fallback {display: none;}</style><div id=\"sk-container-id-1\" class=\"sk-top-container\"><div class=\"sk-text-repr-fallback\"><pre>RandomForestClassifier(random_state=42)</pre><b>In a Jupyter environment, please rerun this cell to show the HTML representation or trust the notebook. <br />On GitHub, the HTML representation is unable to render, please try loading this page with nbviewer.org.</b></div><div class=\"sk-container\" hidden><div class=\"sk-item\"><div class=\"sk-estimator sk-toggleable\"><input class=\"sk-toggleable__control sk-hidden--visually\" id=\"sk-estimator-id-1\" type=\"checkbox\" checked><label for=\"sk-estimator-id-1\" class=\"sk-toggleable__label sk-toggleable__label-arrow\">RandomForestClassifier</label><div class=\"sk-toggleable__content\"><pre>RandomForestClassifier(random_state=42)</pre></div></div></div></div></div>"
      ],
      "text/plain": [
       "RandomForestClassifier(random_state=42)"
      ]
     },
     "execution_count": 22,
     "metadata": {},
     "output_type": "execute_result"
    }
   ],
   "source": [
    "rf = RandomForestClassifier(n_estimators=100, random_state=42)\n",
    "rf.fit(train_padded_X, train_Y)"
   ]
  },
  {
   "cell_type": "code",
   "execution_count": 23,
   "id": "2cdb9694-d7ee-4a9a-a24a-088bb0618484",
   "metadata": {},
   "outputs": [],
   "source": [
    "train_pred = rf.predict(train_padded_X)\n",
    "train_accuracy = accuracy_score(train_Y, train_pred)"
   ]
  },
  {
   "cell_type": "code",
   "execution_count": 24,
   "id": "5b248f81-b298-44ed-a29f-81cdcf5267cd",
   "metadata": {},
   "outputs": [
    {
     "name": "stdout",
     "output_type": "stream",
     "text": [
      "Training Set Accuracy: 99.96%\n"
     ]
    }
   ],
   "source": [
    "# Print the accuracy\n",
    "print(\"Training Set Accuracy: {:.2f}%\".format(train_accuracy * 100))\n"
   ]
  },
  {
   "cell_type": "code",
   "execution_count": 25,
   "id": "3c8ea9eb-06df-4b88-8fea-83f3ea957f6c",
   "metadata": {},
   "outputs": [],
   "source": [
    "train_predictions = rf.predict(train_padded_X)\n",
    "pred_binary = np.where(train_predictions > 0.5, 1, 0)"
   ]
  },
  {
   "cell_type": "code",
   "execution_count": 26,
   "id": "c2f1e413-7a28-4fe2-83a0-fadcc5fd5b7d",
   "metadata": {},
   "outputs": [],
   "source": [
    "test_predictions2 = rf.predict(test_padded_X)\n",
    "pred_binary2 = np.where(test_predictions2 > 0.5, 1, 0)"
   ]
  },
  {
   "cell_type": "code",
   "execution_count": 27,
   "id": "e3bcd429-64f5-4b63-8050-7278f7e5da42",
   "metadata": {},
   "outputs": [
    {
     "name": "stdout",
     "output_type": "stream",
     "text": [
      "[[0 0 0 0 0 0]\n",
      " [0 0 0 0 0 0]\n",
      " [0 0 0 0 0 0]\n",
      " ...\n",
      " [0 0 0 0 0 0]\n",
      " [0 0 0 0 0 0]\n",
      " [0 0 0 0 0 0]]\n"
     ]
    }
   ],
   "source": [
    "#print(pred_binary)\n",
    "print(pred_binary2)"
   ]
  },
  {
   "cell_type": "code",
   "execution_count": 28,
   "id": "3d4d735d-49e4-4fe1-a1a4-c775dd818cb1",
   "metadata": {},
   "outputs": [
    {
     "name": "stdout",
     "output_type": "stream",
     "text": [
      "(48000,)\n",
      "(48000,)\n",
      "(16000,)\n",
      "(16000,)\n"
     ]
    }
   ],
   "source": [
    "train_Y_single = np.argmax(train_Y, axis=1)\n",
    "pred_single = np.argmax(pred_binary, axis=1)\n",
    "print(train_Y_single.shape)\n",
    "print(pred_single.shape)\n",
    "\n",
    "test_Y_single = np.argmax(test_Y, axis=1)\n",
    "pred_single2 = np.argmax(pred_binary2, axis=1)\n",
    "print(test_Y_single.shape)\n",
    "print(pred_single2.shape)"
   ]
  },
  {
   "cell_type": "code",
   "execution_count": 29,
   "id": "c854cbe8-5815-4d86-8389-88dbd6569b52",
   "metadata": {},
   "outputs": [
    {
     "data": {
      "image/png": "[encoded data removed]",
      "text/plain": [
       "<Figure size 800x600 with 2 Axes>"
      ]
     },
     "metadata": {},
     "output_type": "display_data"
    }
   ],
   "source": [
    "train_Y_single = np.argmax(train_Y, axis=1)\n",
    "pred_single = np.argmax(pred_binary, axis=1)\n",
    "\n",
    "#f1_score = f1_score(test_Y_single, pred_single, average='weighted')\n",
    "f1_1 = f1_score(train_Y_single, pred_single, average='weighted')\n",
    "#Get the number of classes\n",
    "num_classes = len(list_classes)\n",
    "\n",
    "#Calculate the confusion matrix\n",
    "cm = np.zeros((2, 2))\n",
    "for i in range(num_classes):\n",
    "    true_positives = np.sum(np.logical_and(train_Y[:, i] == 1, pred_binary[:, i] == 1))\n",
    "    false_positives = np.sum(np.logical_and(train_Y[:, i] == 0, pred_binary[:, i] == 1))\n",
    "    true_negatives = np.sum(np.logical_and(train_Y[:, i] == 0, pred_binary[:, i] == 0))\n",
    "    false_negatives = np.sum(np.logical_and(train_Y[:, i] == 1, pred_binary[:, i] == 0))\n",
    "\n",
    "    cm[0, 0] += true_negatives\n",
    "    cm[0, 1] += false_positives\n",
    "    cm[1, 0] += false_negatives\n",
    "    cm[1, 1] += true_positives\n",
    "\n",
    "#Set the tick labels and locations\n",
    "tick_labels = ['Predicted 0', 'Predicted 1']\n",
    "tick_locations = np.arange(len(tick_labels))\n",
    "\n",
    "#Plot the confusion matrix\n",
    "fig, ax = plt.subplots(figsize=(8, 6))\n",
    "im = ax.imshow(cm, interpolation='nearest', cmap=plt.cm.Blues)\n",
    "ax.figure.colorbar(im, ax=ax)\n",
    "ax.set(xticks=tick_locations, yticks=tick_locations,\n",
    "       xticklabels=tick_labels, yticklabels=tick_labels,\n",
    "       ylabel='True Label',\n",
    "       xlabel='Predicted Label',\n",
    "       title=f'Confusion Matrix\\nF1 score: {f1_1:.4f}')\n",
    "\n",
    "#Loop over data dimensions and create text annotations with appropriate color\n",
    "for i in range(cm.shape[0]):\n",
    "    for j in range(cm.shape[1]):\n",
    "        text_color = 'white' if cm[i, j] > cm.max() / 2 else 'black'  # Adjust text color based on cell value\n",
    "        ax.text(j, i, format(int(cm[i, j]), 'd'), ha=\"center\", va=\"center\", color=text_color)\n",
    "\n",
    "plt.tight_layout()\n",
    "plt.show()"
   ]
  },
  {
   "cell_type": "code",
   "execution_count": null,
   "id": "386cd7ae-2cb3-4389-b37d-36ffbd95b840",
   "metadata": {},
   "outputs": [],
   "source": []
  },
  {
   "cell_type": "code",
   "execution_count": 31,
   "id": "20ba4763-336a-45e5-a402-3251e671778a",
   "metadata": {},
   "outputs": [
    {
     "ename": "NameError",
     "evalue": "name 'tree' is not defined",
     "output_type": "error",
     "traceback": [
      "\u001b[0;31m---------------------------------------------------------------------------\u001b[0m",
      "\u001b[0;31mNameError\u001b[0m                                 Traceback (most recent call last)",
      "Cell \u001b[0;32mIn[31], line 2\u001b[0m\n\u001b[1;32m      1\u001b[0m fig \u001b[38;5;241m=\u001b[39m plt\u001b[38;5;241m.\u001b[39mfigure(figsize\u001b[38;5;241m=\u001b[39m(\u001b[38;5;241m20\u001b[39m,\u001b[38;5;241m15\u001b[39m))\n\u001b[0;32m----> 2\u001b[0m _ \u001b[38;5;241m=\u001b[39m \u001b[43mtree\u001b[49m\u001b[38;5;241m.\u001b[39mplot_tree(rf\u001b[38;5;241m.\u001b[39mestimators_[\u001b[38;5;241m0\u001b[39m], filled\u001b[38;5;241m=\u001b[39m\u001b[38;5;28;01mTrue\u001b[39;00m) \n",
      "\u001b[0;31mNameError\u001b[0m: name 'tree' is not defined"
     ]
    },
    {
     "data": {
      "text/plain": [
       "<Figure size 2000x1500 with 0 Axes>"
      ]
     },
     "metadata": {},
     "output_type": "display_data"
    }
   ],
   "source": [
    "fig = plt.figure(figsize=(20,15))\n",
    "_ = tree.plot_tree(rf.estimators_[0], filled=True) "
   ]
  },
  {
   "cell_type": "code",
   "execution_count": 94,
   "id": "0eb98f27-437b-4aaa-a2f6-f565468a6c48",
   "metadata": {},
   "outputs": [
    {
     "data": {
      "image/png": "[encoded data removed]",
      "text/plain": [
       "<Figure size 800x600 with 2 Axes>"
      ]
     },
     "metadata": {},
     "output_type": "display_data"
    }
   ],
   "source": [
    "test_Y_single = np.argmax(test_Y, axis=1)\n",
    "pred_single2 = np.argmax(pred_binary2, axis=1)\n",
    "\n",
    "#f1_score = f1_score(test_Y_single, pred_single, average='weighted')\n",
    "f1_1 = f1_score(test_Y_single, pred_single2, average='weighted')\n",
    "#Get the number of classes\n",
    "num_classes = len(list_classes)\n",
    "\n",
    "#Calculate the confusion matrix\n",
    "cm = np.zeros((2, 2))\n",
    "for i in range(num_classes):\n",
    "    true_positives = np.sum(np.logical_and(test_Y[:, i] == 1, pred_binary2[:, i] == 1))\n",
    "    false_positives = np.sum(np.logical_and(test_Y[:, i] == 0, pred_binary2[:, i] == 1))\n",
    "    true_negatives = np.sum(np.logical_and(test_Y[:, i] == 0, pred_binary2[:, i] == 0))\n",
    "    false_negatives = np.sum(np.logical_and(test_Y[:, i] == 1, pred_binary2[:, i] == 0))\n",
    "\n",
    "    cm[0, 0] += true_negatives\n",
    "    cm[0, 1] += false_positives\n",
    "    cm[1, 0] += false_negatives\n",
    "    cm[1, 1] += true_positives\n",
    "\n",
    "#Set the tick labels and locations\n",
    "tick_labels = ['Predicted 0', 'Predicted 1']\n",
    "tick_locations = np.arange(len(tick_labels))\n",
    "\n",
    "#Plot the confusion matrix\n",
    "fig, ax = plt.subplots(figsize=(8, 6))\n",
    "im = ax.imshow(cm, interpolation='nearest', cmap=plt.cm.Blues)\n",
    "ax.figure.colorbar(im, ax=ax)\n",
    "ax.set(xticks=tick_locations, yticks=tick_locations,\n",
    "       xticklabels=tick_labels, yticklabels=tick_labels,\n",
    "       ylabel='True Label',\n",
    "       xlabel='Predicted Label',\n",
    "       title=f'Confusion Matrix\\nF1 score: {f1_1:.4f}')\n",
    "\n",
    "#Loop over data dimensions and create text annotations with appropriate color\n",
    "for i in range(cm.shape[0]):\n",
    "    for j in range(cm.shape[1]):\n",
    "        text_color = 'white' if cm[i, j] > cm.max() / 2 else 'black'  # Adjust text color based on cell value\n",
    "        ax.text(j, i, format(int(cm[i, j]), 'd'), ha=\"center\", va=\"center\", color=text_color)\n",
    "\n",
    "plt.tight_layout()\n",
    "plt.show()"
   ]
  },
  {
   "cell_type": "code",
   "execution_count": 96,
   "id": "14d737c2-2e59-429f-b98b-b420bc25b413",
   "metadata": {},
   "outputs": [],
   "source": [
    "from sklearn import tree"
   ]
  },
  {
   "cell_type": "code",
   "execution_count": null,
   "id": "bdfd359f-49b5-4d6b-9a80-c8566d4cd238",
   "metadata": {},
   "outputs": [],
   "source": [
    "# Plot the Random Forest\n",
    "fig, axes = plt.subplots(nrows=1, ncols=1, figsize=(10, 10), dpi=300)\n",
    "tree.plot_forest(rf, filled=True, feature_names=iris.feature_names, class_names=iris.target_names, ax=axes)\n",
    "plt.show()"
   ]
  },
  {
   "cell_type": "markdown",
   "id": "feeca9dd-93a5-4bb8-b116-3aae93b37040",
   "metadata": {},
   "source": [
    "# disregard below code"
   ]
  },
  {
   "cell_type": "code",
   "execution_count": null,
   "id": "15274a4d-9624-4c1b-8b72-797683857bb0",
   "metadata": {},
   "outputs": [],
   "source": [
    "# inp = Input(shape=(int(max_length/2), ))\n",
    "# x = Embedding(max_words, 128)(inp)\n",
    "# x = LSTM(64, return_sequences=True,name='lstm_layer')(x)\n",
    "# x = GlobalMaxPool1D()(x)\n",
    "# x = Dropout(0.5)(x)\n",
    "# x = Dense(32, activation=\"relu\")(x)\n",
    "# x = Dropout(0.5)(x)\n",
    "# x = Dense(16, activation=\"relu\")(x)\n",
    "# x = Dropout(0.5)(x)\n",
    "\n",
    "# x = Dense(6, activation='sigmoid')(x)\n",
    "# model = Model(inputs=inp, outputs=x)\n",
    "\n",
    "# print(model.summary())\n",
    "# model_2=Model(inputs=inp, outputs=x)\n",
    "# model_2.compile('adam', 'binary_crossentropy', metrics=['accuracy'])\n"
   ]
  },
  {
   "cell_type": "code",
   "execution_count": null,
   "id": "6c2526b0-3628-4750-a81f-32c5b2f3a213",
   "metadata": {},
   "outputs": [],
   "source": [
    "# history = model_2.fit(train_padded_X, train_Y,\n",
    "#           batch_size= 128,\n",
    "#           epochs=5,\n",
    "#           validation_data= [val_padded_X, val_Y])"
   ]
  },
  {
   "cell_type": "code",
   "execution_count": null,
   "id": "047628d7-f855-4d54-b786-e8bd4ee5855d",
   "metadata": {},
   "outputs": [],
   "source": [
    "# loss = history.history['loss']\n",
    "# val_loss = history.history['val_loss']\n",
    "\n",
    "# epochs = range(1, len(loss)+1)\n",
    "\n",
    "# plt.plot(epochs, loss, label='Training loss')\n",
    "# plt.plot(epochs, val_loss, label='Validation loss')\n",
    "# plt.title('Training and validation loss')\n",
    "# plt.xlabel('Epochs')\n",
    "# plt.ylabel('Loss')\n",
    "# plt.legend()\n",
    "# plt.show();"
   ]
  },
  {
   "cell_type": "code",
   "execution_count": null,
   "id": "a3f20189-c391-4171-859a-e7fadcfcd077",
   "metadata": {},
   "outputs": [],
   "source": [
    "# loss = history.history['accuracy']\n",
    "# val_loss = history.history['val_accuracy']\n",
    "\n",
    "# epochs = range(1, len(loss)+1)\n",
    "\n",
    "# plt.plot(epochs, loss, label='Accuracy')\n",
    "# plt.plot(epochs, val_loss, label='Validation Accuracy')\n",
    "# plt.title('Accuracy and validation Accuracy')\n",
    "# plt.xlabel('Epochs')\n",
    "# plt.ylabel('Accuracy')\n",
    "# plt.legend()\n",
    "# plt.show();"
   ]
  },
  {
   "cell_type": "code",
   "execution_count": null,
   "id": "358c4fce-d25c-423a-8327-121157a4b304",
   "metadata": {},
   "outputs": [],
   "source": [
    "# pred=model_2.predict(test_padded_X)\n",
    "\n",
    "# pred_binary = (pred > 0.5).astype(int)\n",
    "# # Convert predictions to one\\s and zeros\n"
   ]
  },
  {
   "cell_type": "code",
   "execution_count": null,
   "id": "2c786f81-787b-4189-b266-66a4d030fd5d",
   "metadata": {},
   "outputs": [],
   "source": [
    "# print(pred_binary)"
   ]
  },
  {
   "cell_type": "code",
   "execution_count": null,
   "id": "dba585fb-0112-4025-8d1e-58a2a373848e",
   "metadata": {},
   "outputs": [],
   "source": []
  }
 ],
 "metadata": {
  "kernelspec": {
   "display_name": "Python 3 (ipykernel)",
   "language": "python",
   "name": "python3"
  },
  "language_info": {
   "codemirror_mode": {
    "name": "ipython",
    "version": 3
   },
   "file_extension": ".py",
   "mimetype": "text/x-python",
   "name": "python",
   "nbconvert_exporter": "python",
   "pygments_lexer": "ipython3",
   "version": "3.10.9"
  }
 },
 "nbformat": 4,
 "nbformat_minor": 5
}
